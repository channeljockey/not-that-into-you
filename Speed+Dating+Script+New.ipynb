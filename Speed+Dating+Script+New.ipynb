{
 "cells": [
  {
   "cell_type": "markdown",
   "metadata": {},
   "source": [
    "Import Necessary Packages"
   ]
  },
  {
   "cell_type": "code",
   "execution_count": 19,
   "metadata": {
    "collapsed": false
   },
   "outputs": [],
   "source": [
    "import generate_clusters\n",
    "import json\n",
    "import matplotlib.pyplot as plt\n",
    "import networkx as nx\n",
    "import numpy as np\n",
    "import pandas as pd\n",
    "import plotly \n",
    "import plotly.plotly as py\n",
    "from plotly.graph_objs import *\n",
    "import pylab\n",
    "import set_plotly_credentials as setply\n",
    "from sklearn.cluster import KMeans"
   ]
  },
  {
   "cell_type": "code",
   "execution_count": 4,
   "metadata": {
    "collapsed": false
   },
   "outputs": [],
   "source": [
    "setply.set_plotly_credentials('credentials.json')"
   ]
  },
  {
   "cell_type": "code",
   "execution_count": 8,
   "metadata": {
    "collapsed": false
   },
   "outputs": [
    {
     "name": "stdout",
     "output_type": "stream",
     "text": [
      "PandasDateMatch.ipynb         Untitled.ipynb\r\n",
      "README.md                     \u001b[34m__pycache__\u001b[m\u001b[m\r\n",
      "Speed Dating Data Key.doc     credentials.json\r\n",
      "\u001b[31mSpeed Dating Data.csv\u001b[m\u001b[m         generate_clusters.py\r\n",
      "Speed+Dating+Script+New.ipynb generate_plotly.py\r\n",
      "UWCapstone.ipynb              network_graph.py\r\n",
      "Untitled                      set_plotly_credentials.py\r\n"
     ]
    }
   ],
   "source": [
    "!ls"
   ]
  },
  {
   "cell_type": "markdown",
   "metadata": {},
   "source": [
    "Read in Necessary Dataset"
   ]
  },
  {
   "cell_type": "code",
   "execution_count": 13,
   "metadata": {
    "collapsed": false
   },
   "outputs": [],
   "source": [
    "filepath = 'https://raw.githubusercontent.com/rmw647/not-that-into-you/master/Speed%20Dating%20Data.csv'\n",
    "data = pd.read_csv(filepath, encoding='latin1')"
   ]
  },
  {
   "cell_type": "markdown",
   "metadata": {},
   "source": [
    "Choose which variables you want to cluster on."
   ]
  },
  {
   "cell_type": "code",
   "execution_count": 14,
   "metadata": {
    "collapsed": false
   },
   "outputs": [],
   "source": [
    "bio_info = data[['iid','pid','match','age','sports','tvsports','exercise','dining','museums','art','hiking','gaming','clubbing','reading','tv','theater','movies','concerts','music','shopping','yoga','exphappy']]"
   ]
  },
  {
   "cell_type": "code",
   "execution_count": 15,
   "metadata": {
    "collapsed": false
   },
   "outputs": [],
   "source": [
    "bio_info = bio_info.dropna(how='any')"
   ]
  },
  {
   "cell_type": "markdown",
   "metadata": {},
   "source": [
    "Only keep one line of background information data for each participant."
   ]
  },
  {
   "cell_type": "code",
   "execution_count": 16,
   "metadata": {
    "collapsed": false
   },
   "outputs": [],
   "source": [
    "bio_info_subset = bio_info.drop_duplicates(subset='iid')"
   ]
  },
  {
   "cell_type": "markdown",
   "metadata": {},
   "source": [
    "Select Out the Speed-Dating Matches for Links"
   ]
  },
  {
   "cell_type": "code",
   "execution_count": 17,
   "metadata": {
    "collapsed": false,
    "scrolled": false
   },
   "outputs": [],
   "source": [
    "matches = bio_info[['iid','pid','match']]\n",
    "matches = matches[matches.match==1]\n",
    "matches['pid'] = matches['pid'].astype(int)\n",
    "matches = matches[matches.iid.isin(bio_info_subset.iid)&matches.pid.isin(bio_info_subset.iid)]\n",
    "edges = list(zip(matches.iid,matches.pid))\n"
   ]
  },
  {
   "cell_type": "markdown",
   "metadata": {},
   "source": [
    "Perform K-means clustering. Normalize and generate cluster labels."
   ]
  },
  {
   "cell_type": "code",
   "execution_count": 20,
   "metadata": {
    "collapsed": false
   },
   "outputs": [
    {
     "ename": "TypeError",
     "evalue": "'module' object is not callable",
     "output_type": "error",
     "traceback": [
      "\u001b[0;31m---------------------------------------------------------------------------\u001b[0m",
      "\u001b[0;31mTypeError\u001b[0m                                 Traceback (most recent call last)",
      "\u001b[0;32m<ipython-input-20-61ffa76aff94>\u001b[0m in \u001b[0;36m<module>\u001b[0;34m()\u001b[0m\n\u001b[1;32m      1\u001b[0m cluster_columns = ['age','sports','tvsports','exercise','dining','museums','art','hiking','gaming','clubbing',\n\u001b[1;32m      2\u001b[0m                    'reading','tv','theater','movies','concerts','music','shopping','yoga','exphappy']\n\u001b[0;32m----> 3\u001b[0;31m \u001b[0mgenerate_clusters\u001b[0m\u001b[0;34m(\u001b[0m\u001b[0mbio_info_subset\u001b[0m\u001b[0;34m,\u001b[0m\u001b[0mcluster_columns\u001b[0m\u001b[0;34m,\u001b[0m\u001b[0;36m3\u001b[0m\u001b[0;34m,\u001b[0m\u001b[0;34m'cluster_assignment'\u001b[0m\u001b[0;34m)\u001b[0m\u001b[0;34m\u001b[0m\u001b[0m\n\u001b[0m",
      "\u001b[0;31mTypeError\u001b[0m: 'module' object is not callable"
     ]
    }
   ],
   "source": [
    "cluster_columns = ['age','sports','tvsports','exercise','dining','museums','art','hiking','gaming','clubbing',\n",
    "                   'reading','tv','theater','movies','concerts','music','shopping','yoga','exphappy']\n",
    "generate_clusters(bio_info_subset,cluster_columns,3,'cluster_assignment')"
   ]
  },
  {
   "cell_type": "code",
   "execution_count": 495,
   "metadata": {
    "collapsed": false
   },
   "outputs": [
    {
     "data": {
      "text/plain": [
       "<networkx.classes.graph.Graph at 0x1223dd8d0>"
      ]
     },
     "execution_count": 495,
     "metadata": {},
     "output_type": "execute_result"
    }
   ],
   "source": [
    "network_graph(bio_info_subset.iid,edges,bio_info_subset.cluster_assignment)"
   ]
  },
  {
   "cell_type": "code",
   "execution_count": 496,
   "metadata": {
    "collapsed": false,
    "scrolled": true
   },
   "outputs": [
    {
     "name": "stdout",
     "output_type": "stream",
     "text": [
      "High five! You successfuly sent some data to your account on plotly. View your plot in your browser at https://plot.ly/~1215Diana/0 or inside your plot.ly account where it is named 'networkx'\n"
     ]
    },
    {
     "data": {
      "text/html": [
       "<iframe id=\"igraph\" scrolling=\"no\" style=\"border:none;\" seamless=\"seamless\" src=\"https://plot.ly/~1215Diana/0.embed\" height=\"650px\" width=\"650px\"></iframe>"
      ],
      "text/plain": [
       "<plotly.tools.PlotlyDisplay object>"
      ]
     },
     "execution_count": 496,
     "metadata": {},
     "output_type": "execute_result"
    }
   ],
   "source": [
    "generate_plotly(G)"
   ]
  },
  {
   "cell_type": "code",
   "execution_count": null,
   "metadata": {
    "collapsed": true
   },
   "outputs": [],
   "source": [
    "new = pd.DataFrame.from_dict(cluster, orient='index').reset_index()\n",
    "new.rename(columns={'index': 'iid', 0: 'cluster'}, inplace=True)\n",
    "together=pd.merge(new,matches,left_on=new.iid,right_on=matches.iid,how='right')\n",
    "together2=pd.merge(together,new,left_on=together.pid,right_on=new.iid,how='left')\n",
    "together2=together2.groupby(['iid_x', 'iid']).last()\n",
    "together2['difference']=together2.cluster_x-together2.cluster_y\n",
    "together2['difference'].value_counts().plot( kind='bar')\n",
    "plt.show()"
   ]
  }
 ],
 "metadata": {
  "kernelspec": {
   "display_name": "Python 3",
   "language": "python",
   "name": "python3"
  },
  "language_info": {
   "codemirror_mode": {
    "name": "ipython",
    "version": 3
   },
   "file_extension": ".py",
   "mimetype": "text/x-python",
   "name": "python",
   "nbconvert_exporter": "python",
   "pygments_lexer": "ipython3",
   "version": "3.6.0"
  }
 },
 "nbformat": 4,
 "nbformat_minor": 2
}
