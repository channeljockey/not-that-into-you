{
 "cells": [
  {
   "cell_type": "code",
   "execution_count": 78,
   "metadata": {
    "collapsed": false
   },
   "outputs": [],
   "source": [
    "import pandas as pd\n",
    "import numpy as np\n",
    "\n",
    "ind1 = pd.date_range('2017-01-01 00:00:01', freq='H', periods=10)\n",
    "ind2 = pd.date_range('2017-01-01 00:00:00', freq='2H', periods=5)\n",
    "\n",
    "data1 = pd.DataFrame({'val1': np.random.rand(10)},\n",
    "                     index=ind1)\n",
    "data2 = pd.DataFrame({'val2': np.random.rand(5)},\n",
    "                     index=ind2)"
   ]
  },
  {
   "cell_type": "code",
   "execution_count": 79,
   "metadata": {
    "collapsed": false
   },
   "outputs": [
    {
     "data": {
      "text/html": [
       "<div>\n",
       "<table border=\"1\" class=\"dataframe\">\n",
       "  <thead>\n",
       "    <tr style=\"text-align: right;\">\n",
       "      <th></th>\n",
       "      <th>val1</th>\n",
       "    </tr>\n",
       "  </thead>\n",
       "  <tbody>\n",
       "    <tr>\n",
       "      <th>2017-01-01 00:00:01</th>\n",
       "      <td>0.893037</td>\n",
       "    </tr>\n",
       "    <tr>\n",
       "      <th>2017-01-01 01:00:01</th>\n",
       "      <td>0.049925</td>\n",
       "    </tr>\n",
       "    <tr>\n",
       "      <th>2017-01-01 02:00:01</th>\n",
       "      <td>0.837652</td>\n",
       "    </tr>\n",
       "    <tr>\n",
       "      <th>2017-01-01 03:00:01</th>\n",
       "      <td>0.143972</td>\n",
       "    </tr>\n",
       "    <tr>\n",
       "      <th>2017-01-01 04:00:01</th>\n",
       "      <td>0.146704</td>\n",
       "    </tr>\n",
       "    <tr>\n",
       "      <th>2017-01-01 05:00:01</th>\n",
       "      <td>0.462497</td>\n",
       "    </tr>\n",
       "    <tr>\n",
       "      <th>2017-01-01 06:00:01</th>\n",
       "      <td>0.661669</td>\n",
       "    </tr>\n",
       "    <tr>\n",
       "      <th>2017-01-01 07:00:01</th>\n",
       "      <td>0.654570</td>\n",
       "    </tr>\n",
       "    <tr>\n",
       "      <th>2017-01-01 08:00:01</th>\n",
       "      <td>0.744998</td>\n",
       "    </tr>\n",
       "    <tr>\n",
       "      <th>2017-01-01 09:00:01</th>\n",
       "      <td>0.663441</td>\n",
       "    </tr>\n",
       "  </tbody>\n",
       "</table>\n",
       "</div>"
      ],
      "text/plain": [
       "                         val1\n",
       "2017-01-01 00:00:01  0.893037\n",
       "2017-01-01 01:00:01  0.049925\n",
       "2017-01-01 02:00:01  0.837652\n",
       "2017-01-01 03:00:01  0.143972\n",
       "2017-01-01 04:00:01  0.146704\n",
       "2017-01-01 05:00:01  0.462497\n",
       "2017-01-01 06:00:01  0.661669\n",
       "2017-01-01 07:00:01  0.654570\n",
       "2017-01-01 08:00:01  0.744998\n",
       "2017-01-01 09:00:01  0.663441"
      ]
     },
     "execution_count": 79,
     "metadata": {},
     "output_type": "execute_result"
    }
   ],
   "source": [
    "data1"
   ]
  },
  {
   "cell_type": "code",
   "execution_count": 80,
   "metadata": {
    "collapsed": false
   },
   "outputs": [
    {
     "data": {
      "text/html": [
       "<div>\n",
       "<table border=\"1\" class=\"dataframe\">\n",
       "  <thead>\n",
       "    <tr style=\"text-align: right;\">\n",
       "      <th></th>\n",
       "      <th>val2</th>\n",
       "    </tr>\n",
       "  </thead>\n",
       "  <tbody>\n",
       "    <tr>\n",
       "      <th>2017-01-01 00:00:00</th>\n",
       "      <td>0.065677</td>\n",
       "    </tr>\n",
       "    <tr>\n",
       "      <th>2017-01-01 02:00:00</th>\n",
       "      <td>0.994933</td>\n",
       "    </tr>\n",
       "    <tr>\n",
       "      <th>2017-01-01 04:00:00</th>\n",
       "      <td>0.925059</td>\n",
       "    </tr>\n",
       "    <tr>\n",
       "      <th>2017-01-01 06:00:00</th>\n",
       "      <td>0.269661</td>\n",
       "    </tr>\n",
       "    <tr>\n",
       "      <th>2017-01-01 08:00:00</th>\n",
       "      <td>0.528682</td>\n",
       "    </tr>\n",
       "  </tbody>\n",
       "</table>\n",
       "</div>"
      ],
      "text/plain": [
       "                         val2\n",
       "2017-01-01 00:00:00  0.065677\n",
       "2017-01-01 02:00:00  0.994933\n",
       "2017-01-01 04:00:00  0.925059\n",
       "2017-01-01 06:00:00  0.269661\n",
       "2017-01-01 08:00:00  0.528682"
      ]
     },
     "execution_count": 80,
     "metadata": {},
     "output_type": "execute_result"
    }
   ],
   "source": [
    "data2"
   ]
  },
  {
   "cell_type": "code",
   "execution_count": 87,
   "metadata": {
    "collapsed": false
   },
   "outputs": [
    {
     "data": {
      "text/html": [
       "<div>\n",
       "<table border=\"1\" class=\"dataframe\">\n",
       "  <thead>\n",
       "    <tr style=\"text-align: right;\">\n",
       "      <th></th>\n",
       "      <th>val1</th>\n",
       "      <th>old_ind</th>\n",
       "    </tr>\n",
       "  </thead>\n",
       "  <tbody>\n",
       "    <tr>\n",
       "      <th>2017-01-01 00:00:00</th>\n",
       "      <td>0.893037</td>\n",
       "      <td>2017-01-01 00:00:01</td>\n",
       "    </tr>\n",
       "    <tr>\n",
       "      <th>2017-01-01 02:00:00</th>\n",
       "      <td>0.837652</td>\n",
       "      <td>2017-01-01 02:00:01</td>\n",
       "    </tr>\n",
       "    <tr>\n",
       "      <th>2017-01-01 04:00:00</th>\n",
       "      <td>0.146704</td>\n",
       "      <td>2017-01-01 04:00:01</td>\n",
       "    </tr>\n",
       "    <tr>\n",
       "      <th>2017-01-01 06:00:00</th>\n",
       "      <td>0.661669</td>\n",
       "      <td>2017-01-01 06:00:01</td>\n",
       "    </tr>\n",
       "    <tr>\n",
       "      <th>2017-01-01 08:00:00</th>\n",
       "      <td>0.744998</td>\n",
       "      <td>2017-01-01 08:00:01</td>\n",
       "    </tr>\n",
       "  </tbody>\n",
       "</table>\n",
       "</div>"
      ],
      "text/plain": [
       "                         val1             old_ind\n",
       "2017-01-01 00:00:00  0.893037 2017-01-01 00:00:01\n",
       "2017-01-01 02:00:00  0.837652 2017-01-01 02:00:01\n",
       "2017-01-01 04:00:00  0.146704 2017-01-01 04:00:01\n",
       "2017-01-01 06:00:00  0.661669 2017-01-01 06:00:01\n",
       "2017-01-01 08:00:00  0.744998 2017-01-01 08:00:01"
      ]
     },
     "execution_count": 87,
     "metadata": {},
     "output_type": "execute_result"
    }
   ],
   "source": [
    "data1['old_ind'] = data1.index\n",
    "data1_new = data1.reindex(data2.index, method='nearest')\n",
    "data1_new"
   ]
  },
  {
   "cell_type": "code",
   "execution_count": 88,
   "metadata": {
    "collapsed": false
   },
   "outputs": [
    {
     "data": {
      "text/html": [
       "<div>\n",
       "<table border=\"1\" class=\"dataframe\">\n",
       "  <thead>\n",
       "    <tr style=\"text-align: right;\">\n",
       "      <th></th>\n",
       "      <th>val2</th>\n",
       "      <th>val1</th>\n",
       "      <th>old_ind</th>\n",
       "    </tr>\n",
       "  </thead>\n",
       "  <tbody>\n",
       "    <tr>\n",
       "      <th>2017-01-01 00:00:00</th>\n",
       "      <td>0.065677</td>\n",
       "      <td>0.893037</td>\n",
       "      <td>2017-01-01 00:00:01</td>\n",
       "    </tr>\n",
       "    <tr>\n",
       "      <th>2017-01-01 02:00:00</th>\n",
       "      <td>0.994933</td>\n",
       "      <td>0.837652</td>\n",
       "      <td>2017-01-01 02:00:01</td>\n",
       "    </tr>\n",
       "    <tr>\n",
       "      <th>2017-01-01 04:00:00</th>\n",
       "      <td>0.925059</td>\n",
       "      <td>0.146704</td>\n",
       "      <td>2017-01-01 04:00:01</td>\n",
       "    </tr>\n",
       "    <tr>\n",
       "      <th>2017-01-01 06:00:00</th>\n",
       "      <td>0.269661</td>\n",
       "      <td>0.661669</td>\n",
       "      <td>2017-01-01 06:00:01</td>\n",
       "    </tr>\n",
       "    <tr>\n",
       "      <th>2017-01-01 08:00:00</th>\n",
       "      <td>0.528682</td>\n",
       "      <td>0.744998</td>\n",
       "      <td>2017-01-01 08:00:01</td>\n",
       "    </tr>\n",
       "  </tbody>\n",
       "</table>\n",
       "</div>"
      ],
      "text/plain": [
       "                         val2      val1             old_ind\n",
       "2017-01-01 00:00:00  0.065677  0.893037 2017-01-01 00:00:01\n",
       "2017-01-01 02:00:00  0.994933  0.837652 2017-01-01 02:00:01\n",
       "2017-01-01 04:00:00  0.925059  0.146704 2017-01-01 04:00:01\n",
       "2017-01-01 06:00:00  0.269661  0.661669 2017-01-01 06:00:01\n",
       "2017-01-01 08:00:00  0.528682  0.744998 2017-01-01 08:00:01"
      ]
     },
     "execution_count": 88,
     "metadata": {},
     "output_type": "execute_result"
    }
   ],
   "source": [
    "data2.join(data1_new)"
   ]
  },
  {
   "cell_type": "markdown",
   "metadata": {},
   "source": [
    "## KD Trees"
   ]
  },
  {
   "cell_type": "code",
   "execution_count": 100,
   "metadata": {
    "collapsed": true
   },
   "outputs": [],
   "source": [
    "from scipy.spatial import cKDTree\n",
    "\n",
    "data1 = np.random.rand(100, 2)\n",
    "data2 = np.random.rand(100, 2)"
   ]
  },
  {
   "cell_type": "code",
   "execution_count": 109,
   "metadata": {
    "collapsed": false
   },
   "outputs": [
    {
     "data": {
      "text/plain": [
       "array(['2012-01-01T00:00:00.000000000', '2012-01-01T00:00:01.000000000',\n",
       "       '2012-01-01T00:00:02.000000000', '2012-01-01T00:00:03.000000000',\n",
       "       '2012-01-01T00:00:04.000000000', '2012-01-01T00:00:05.000000000',\n",
       "       '2012-01-01T00:00:06.000000000', '2012-01-01T00:00:07.000000000',\n",
       "       '2012-01-01T00:00:08.000000000', '2012-01-01T00:00:09.000000000',\n",
       "       '2012-01-01T00:00:10.000000000', '2012-01-01T00:00:11.000000000',\n",
       "       '2012-01-01T00:00:12.000000000', '2012-01-01T00:00:13.000000000',\n",
       "       '2012-01-01T00:00:14.000000000', '2012-01-01T00:00:15.000000000',\n",
       "       '2012-01-01T00:00:16.000000000', '2012-01-01T00:00:17.000000000',\n",
       "       '2012-01-01T00:00:18.000000000', '2012-01-01T00:00:19.000000000'], dtype='datetime64[ns]')"
      ]
     },
     "execution_count": 109,
     "metadata": {},
     "output_type": "execute_result"
    }
   ],
   "source": [
    "dates = pd.date_range('2012-01-01', freq='S', periods=20)\n",
    "dates.values"
   ]
  },
  {
   "cell_type": "code",
   "execution_count": 113,
   "metadata": {
    "collapsed": false
   },
   "outputs": [
    {
     "data": {
      "text/plain": [
       "(array([  1.00000000e+09,   2.00000000e+09,   3.00000000e+09,\n",
       "          4.00000000e+09,   5.00000000e+09,   6.00000000e+09,\n",
       "          7.00000000e+09,   8.00000000e+09,   9.00000000e+09,\n",
       "          1.00000000e+10,   1.10000000e+10,   1.20000000e+10,\n",
       "          1.30000000e+10,   1.40000000e+10,   1.50000000e+10]),\n",
       " array([4, 4, 4, 4, 4, 4, 4, 4, 4, 4, 4, 4, 4, 4, 4]))"
      ]
     },
     "execution_count": 113,
     "metadata": {},
     "output_type": "execute_result"
    }
   ],
   "source": [
    "cKDTree(dates.values[:5, None]).query(dates.values[5:, None], 1)"
   ]
  },
  {
   "cell_type": "code",
   "execution_count": 103,
   "metadata": {
    "collapsed": false
   },
   "outputs": [
    {
     "data": {
      "text/plain": [
       "array([[ 0.57612072,  0.76737744],\n",
       "       [ 0.0799649 ,  0.69987945],\n",
       "       [ 0.19908587,  0.62064613],\n",
       "       [ 0.93093536,  0.51156146],\n",
       "       [ 0.10018539,  0.17617529]])"
      ]
     },
     "execution_count": 103,
     "metadata": {},
     "output_type": "execute_result"
    }
   ],
   "source": [
    "dist, ind = cKDTree(date).query(data2, 1)\n",
    "data2[:5]"
   ]
  },
  {
   "cell_type": "code",
   "execution_count": null,
   "metadata": {
    "collapsed": true
   },
   "outputs": [],
   "source": []
  },
  {
   "cell_type": "code",
   "execution_count": null,
   "metadata": {
    "collapsed": true
   },
   "outputs": [],
   "source": []
  },
  {
   "cell_type": "code",
   "execution_count": 106,
   "metadata": {
    "collapsed": false
   },
   "outputs": [
    {
     "data": {
      "text/plain": [
       "array([[ 0.73317487,  0.5323165 ],\n",
       "       [ 0.99773199,  0.15948563],\n",
       "       [ 0.88927584,  0.76175311],\n",
       "       [ 0.59267838,  0.60170377],\n",
       "       [ 0.06988378,  0.36528017]])"
      ]
     },
     "execution_count": 106,
     "metadata": {},
     "output_type": "execute_result"
    }
   ],
   "source": [
    "data1[ind[:5]]"
   ]
  },
  {
   "cell_type": "code",
   "execution_count": 107,
   "metadata": {
    "collapsed": false
   },
   "outputs": [
    {
     "data": {
      "text/plain": [
       "array([ 0.05974114,  0.00038318,  0.06907612,  0.02119608,  0.06519012])"
      ]
     },
     "execution_count": 107,
     "metadata": {},
     "output_type": "execute_result"
    }
   ],
   "source": [
    "dist[:5]"
   ]
  },
  {
   "cell_type": "markdown",
   "metadata": {},
   "source": [
    "Or this: http://stackoverflow.com/questions/33421551/how-to-merge-two-data-frames-based-on-nearest-date"
   ]
  }
 ],
 "metadata": {
  "kernelspec": {
   "display_name": "Python 3.6",
   "language": "python",
   "name": "python3.6"
  },
  "language_info": {
   "codemirror_mode": {
    "name": "ipython",
    "version": 3
   },
   "file_extension": ".py",
   "mimetype": "text/x-python",
   "name": "python",
   "nbconvert_exporter": "python",
   "pygments_lexer": "ipython3",
   "version": "3.6.0"
  }
 },
 "nbformat": 4,
 "nbformat_minor": 0
}
